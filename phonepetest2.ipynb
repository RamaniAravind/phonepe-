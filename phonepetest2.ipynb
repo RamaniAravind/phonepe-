{
 "cells": [
  {
   "cell_type": "code",
   "execution_count": 1,
   "metadata": {},
   "outputs": [
    {
     "name": "stdout",
     "output_type": "stream",
     "text": [
      "Collecting nbformat\n",
      "  Using cached nbformat-5.9.2-py3-none-any.whl.metadata (3.4 kB)\n",
      "Collecting fastjsonschema (from nbformat)\n",
      "  Using cached fastjsonschema-2.19.1-py3-none-any.whl.metadata (2.1 kB)\n",
      "Requirement already satisfied: jsonschema>=2.6 in c:\\users\\acer\\desktop\\phonepro\\.venv\\lib\\site-packages (from nbformat) (4.21.1)\n",
      "Requirement already satisfied: jupyter-core in c:\\users\\acer\\desktop\\phonepro\\.venv\\lib\\site-packages (from nbformat) (5.7.1)\n",
      "Requirement already satisfied: traitlets>=5.1 in c:\\users\\acer\\desktop\\phonepro\\.venv\\lib\\site-packages (from nbformat) (5.14.1)\n",
      "Requirement already satisfied: attrs>=22.2.0 in c:\\users\\acer\\desktop\\phonepro\\.venv\\lib\\site-packages (from jsonschema>=2.6->nbformat) (23.2.0)\n",
      "Requirement already satisfied: jsonschema-specifications>=2023.03.6 in c:\\users\\acer\\desktop\\phonepro\\.venv\\lib\\site-packages (from jsonschema>=2.6->nbformat) (2023.12.1)\n",
      "Requirement already satisfied: referencing>=0.28.4 in c:\\users\\acer\\desktop\\phonepro\\.venv\\lib\\site-packages (from jsonschema>=2.6->nbformat) (0.33.0)\n",
      "Requirement already satisfied: rpds-py>=0.7.1 in c:\\users\\acer\\desktop\\phonepro\\.venv\\lib\\site-packages (from jsonschema>=2.6->nbformat) (0.18.0)\n",
      "Requirement already satisfied: platformdirs>=2.5 in c:\\users\\acer\\desktop\\phonepro\\.venv\\lib\\site-packages (from jupyter-core->nbformat) (4.2.0)\n",
      "Requirement already satisfied: pywin32>=300 in c:\\users\\acer\\desktop\\phonepro\\.venv\\lib\\site-packages (from jupyter-core->nbformat) (306)\n",
      "Using cached nbformat-5.9.2-py3-none-any.whl (77 kB)\n",
      "Using cached fastjsonschema-2.19.1-py3-none-any.whl (23 kB)\n",
      "Installing collected packages: fastjsonschema, nbformat\n",
      "Successfully installed fastjsonschema-2.19.1 nbformat-5.9.2\n",
      "Note: you may need to restart the kernel to use updated packages.\n"
     ]
    }
   ],
   "source": [
    "pip install nbformat"
   ]
  },
  {
   "cell_type": "code",
   "execution_count": 6,
   "metadata": {},
   "outputs": [],
   "source": [
    "import json\n",
    "import streamlit as st\n",
    "import pandas as pd\n",
    "import requests\n",
    "import plotly.express as px\n",
    "import mysql.connector as sql\n"
   ]
  },
  {
   "cell_type": "code",
   "execution_count": 7,
   "metadata": {},
   "outputs": [
    {
     "name": "stdout",
     "output_type": "stream",
     "text": [
      "Requirement already satisfied: plotly in c:\\users\\acer\\desktop\\phonepro\\.venv\\lib\\site-packages (5.19.0)\n",
      "Requirement already satisfied: tenacity>=6.2.0 in c:\\users\\acer\\desktop\\phonepro\\.venv\\lib\\site-packages (from plotly) (8.2.3)\n",
      "Requirement already satisfied: packaging in c:\\users\\acer\\desktop\\phonepro\\.venv\\lib\\site-packages (from plotly) (23.2)\n",
      "Note: you may need to restart the kernel to use updated packages.\n"
     ]
    }
   ],
   "source": [
    "pip install plotly"
   ]
  },
  {
   "cell_type": "code",
   "execution_count": 12,
   "metadata": {},
   "outputs": [
    {
     "name": "stdout",
     "output_type": "stream",
     "text": [
      "<mysql.connector.connection_cext.CMySQLConnection object at 0x000001AC297206B0>\n"
     ]
    }
   ],
   "source": [
    "\n",
    "\n",
    "\n",
    "mydb = sql.connect(\n",
    "    host=\"localhost\",\n",
    "    user=\"root\",\n",
    "    password=\"root\",\n",
    "    database=\"Phonepe_pulsedata\"\n",
    ")\n",
    "\n",
    "# Update cursor with buffered=True\n",
    "mycursor = mydb.cursor(buffered=True)\n",
    "\n",
    "\n",
    "print(mydb)\n",
    "\n",
    "mycursor.execute(\"select * from aggregated_insurance;\")\n",
    "mydb.commit()\n",
    "table1 = mycursor.fetchall()\n",
    "\n",
    "Aggre_insurance = pd.DataFrame(table1,columns = (\"States\", \"Years\", \"Quarter\", \"Transaction_type\", \"Transaction_count\",\"Transaction_amount\"))\n",
    "\n",
    "mycursor.execute(\"select * from aggregated_transaction;\")\n",
    "mydb.commit()\n",
    "table2 = mycursor.fetchall()\n",
    "Aggre_transaction = pd.DataFrame(table2,columns = (\"States\", \"Years\", \"Quarter\", \"Transaction_type\", \"Transaction_count\", \"Transaction_amount\"))\n",
    "\n",
    "mycursor.execute(\"select * from aggregated_user\")\n",
    "mydb.commit()\n",
    "table3 = mycursor.fetchall()\n",
    "Aggre_user = pd.DataFrame(table3,columns = (\"States\", \"Years\", \"Quarter\", \"Brands\", \"Transaction_count\", \"Percentage\"))\n",
    "\n",
    "mycursor.execute(\"select * from map_insurance\")\n",
    "mydb.commit()\n",
    "table4= mycursor.fetchall()\n",
    "\n",
    "Map_insurance = pd.DataFrame(table4,columns = (\"States\", \"Years\", \"Quarter\", \"Districts\", \"Transaction_count\",\"Transaction_amount\"))\n",
    "\n",
    "mycursor.execute(\"select * from map_transaction\")\n",
    "mydb.commit()\n",
    "table5 = mycursor.fetchall()\n",
    "Map_transaction = pd.DataFrame(table5,columns = (\"States\", \"Years\", \"Quarter\", \"Districts\", \"Transaction_count\", \"Transaction_amount\"))\n",
    "\n",
    "mycursor.execute(\"select * from map_user\")\n",
    "mydb.commit()\n",
    "table6 = mycursor.fetchall()\n",
    "Map_user = pd.DataFrame(table6,columns = (\"States\", \"Years\", \"Quarter\", \"Districts\", \"RegisteredUser\", \"AppOpens\"))\n",
    "\n",
    "mycursor.execute(\"select * from top_insurance\")\n",
    "mydb.commit()\n",
    "table7 = mycursor.fetchall()\n",
    "\n",
    "Top_insurance = pd.DataFrame(table7,columns = (\"States\", \"Years\", \"Quarter\", \"Pincodes\", \"Transaction_count\", \"Transaction_amount\"))\n",
    "\n",
    "mycursor.execute(\"select * from top_transaction\")\n",
    "mydb.commit()\n",
    "table8 = mycursor.fetchall()\n",
    "Top_transaction = pd.DataFrame(table8,columns = (\"States\", \"Years\", \"Quarter\", \"Pincodes\", \"Transaction_count\", \"Transaction_amount\"))\n",
    "\n",
    "mycursor.execute(\"select * from top_user\")\n",
    "mydb.commit()\n",
    "table9 = mycursor.fetchall()\n",
    "Top_user = pd.DataFrame(table9, columns = (\"States\", \"Years\", \"Quarter\", \"Pincodes\", \"RegisteredUser\"))"
   ]
  },
  {
   "cell_type": "code",
   "execution_count": 14,
   "metadata": {},
   "outputs": [],
   "source": [
    "def Aggre_insurance_Y(df,year):\n",
    "    aiy= df[df[\"Years\"] == year]\n",
    "    aiy.reset_index(drop= True, inplace= True)\n",
    "\n",
    "    aiyg=aiy.groupby(\"States\")[[\"Transaction_count\", \"Transaction_amount\"]].sum()\n",
    "    aiyg.reset_index(inplace= True)\n",
    "\n",
    "    col1,col2= st.columns(2)\n",
    "    with col1:\n",
    "\n",
    "        fig_amount= px.bar(aiyg, x=\"States\", y= \"Transaction_amount\",title= f\"{year} TRANSACTION AMOUNT\",\n",
    "                           width=600, height= 650, color_discrete_sequence=px.colors.sequential.Aggrnyl)\n",
    "        st.plotly_chart(fig_amount)\n",
    "    with col2:\n",
    "\n",
    "        fig_count= px.bar(aiyg, x=\"States\", y= \"Transaction_count\",title= f\"{year} TRANSACTION COUNT\",\n",
    "                          width=600, height= 650, color_discrete_sequence=px.colors.sequential.Bluered_r)\n",
    "        st.plotly_chart(fig_count)"
   ]
  },
  {
   "cell_type": "code",
   "execution_count": 15,
   "metadata": {},
   "outputs": [
    {
     "name": "stderr",
     "output_type": "stream",
     "text": [
      "2024-03-05 16:03:48.306 \n",
      "  \u001b[33m\u001b[1mWarning:\u001b[0m to view this Streamlit app on a browser, run it with the following\n",
      "  command:\n",
      "\n",
      "    streamlit run c:\\Users\\Acer\\Desktop\\phonepro\\.venv\\Lib\\site-packages\\ipykernel_launcher.py [ARGUMENTS]\n"
     ]
    }
   ],
   "source": [
    "Aggre_insurance_Y(Aggre_insurance,2021)"
   ]
  }
 ],
 "metadata": {
  "kernelspec": {
   "display_name": ".venv",
   "language": "python",
   "name": "python3"
  },
  "language_info": {
   "codemirror_mode": {
    "name": "ipython",
    "version": 3
   },
   "file_extension": ".py",
   "mimetype": "text/x-python",
   "name": "python",
   "nbconvert_exporter": "python",
   "pygments_lexer": "ipython3",
   "version": "3.12.1"
  }
 },
 "nbformat": 4,
 "nbformat_minor": 2
}
